{
 "cells": [
  {
   "cell_type": "markdown",
   "metadata": {},
   "source": [
    "## Game of Life\n",
    "\n",
    "# Ideas:\n",
    "\n",
    "* Make each pixel an object and follow its state (make sure to return state)\n",
    "    * Save state, and new_state as properties of the Cell\n",
    "* GoL in 3D space"
   ]
  },
  {
   "cell_type": "markdown",
   "metadata": {},
   "source": [
    "# Rules:\n",
    "\n",
    "1. A living cell will survive into the next generation by default, unless:\n",
    "    - It has fewer than 2 live neighbours (underpopulation)\n",
    "    - It has more than three live neighbours (overpopulation)\n",
    "2. A dead cell will spring to life if has exactly three live neighbours (reproduction)"
   ]
  },
  {
   "cell_type": "code",
   "execution_count": 1,
   "metadata": {},
   "outputs": [],
   "source": [
    "UNDERPOPULATION = 2\n",
    "OVERPOPULATION = 3\n",
    "REPRODUCTION = 3"
   ]
  },
  {
   "cell_type": "code",
   "execution_count": 2,
   "metadata": {},
   "outputs": [],
   "source": [
    "import numpy as np\n",
    "import matplotlib.pyplot as plt\n",
    "import matplotlib.animation as animation\n",
    "%matplotlib inline"
   ]
  },
  {
   "cell_type": "code",
   "execution_count": 11,
   "metadata": {},
   "outputs": [],
   "source": [
    "universe = np.zeros((6,6))"
   ]
  },
  {
   "cell_type": "code",
   "execution_count": 12,
   "metadata": {},
   "outputs": [],
   "source": [
    "beacon = [[1, 1, 0, 0],\n",
    "          [1, 1, 0, 0],\n",
    "          [0, 0, 1, 1],\n",
    "          [0, 0, 1, 1]]\n",
    "\n",
    "universe [1:5, 1:5] = beacon"
   ]
  },
  {
   "cell_type": "code",
   "execution_count": 5,
   "metadata": {},
   "outputs": [
    {
     "data": {
      "text/plain": [
       "<matplotlib.image.AxesImage at 0x10cea5e10>"
      ]
     },
     "execution_count": 5,
     "metadata": {},
     "output_type": "execute_result"
    },
    {
     "data": {
      "image/png": "[encoded data removed]",
      "text/plain": [
       "<matplotlib.figure.Figure at 0x1037adcc0>"
      ]
     },
     "metadata": {},
     "output_type": "display_data"
    }
   ],
   "source": [
    "plt.imshow(universe, cmap='binary')"
   ]
  },
  {
   "cell_type": "code",
   "execution_count": 24,
   "metadata": {},
   "outputs": [],
   "source": [
    "def survival(x, y, universe):\n",
    "    \"\"\"\n",
    "    :param x: <int> x coordinate of the Cell\n",
    "    :param y: <int> y coordinate of the Cell\n",
    "    \"\"\"\n",
    "    # Find the number of living neighbours by taking the sum of the 8 surrounding grid squares\n",
    "    num_neighbours = np.sum(universe[x-1:x+2, y-1:y+2]) - universe[x, y]\n",
    "    \n",
    "    # The rules of Life\n",
    "    if universe[x, y] and not UNDERPOPULATION <= num_neighbours <= OVERPOPULATION:\n",
    "        return 0\n",
    "    elif num_neighbours == REPRODUCTION:\n",
    "        return 1\n",
    "    \n",
    "    return universe[x, y]"
   ]
  },
  {
   "cell_type": "code",
   "execution_count": 19,
   "metadata": {},
   "outputs": [],
   "source": [
    "def generation(universe):\n",
    "    \n",
    "    new_universe = np.copy(universe)\n",
    "    \n",
    "    # Simple loop over every possible xy coordinate.\n",
    "    for i in range(universe.shape[0]):\n",
    "        for j in range(universe.shape[1]):\n",
    "            new_universe[i, j] = survival(i, j, universe)\n",
    "            \n",
    "    return new_universe"
   ]
  },
  {
   "cell_type": "code",
   "execution_count": 15,
   "metadata": {},
   "outputs": [],
   "source": [
    "seeds = {'diehard': [[0, 0, 0, 0, 0, 0, 1, 0],\n",
    "                     [1, 1, 0, 0, 0, 0, 0, 0],\n",
    "                     [0, 1, 0, 0, 0, 1, 1, 1]],\n",
    "         'boat': [[1, 1, 0],\n",
    "                  [1, 0, 1],\n",
    "                  [0, 1, 0]],\n",
    "         'r_pentomino': [[0, 1, 1],\n",
    "                         [1, 1, 0],\n",
    "                         [0, 1, 0]],\n",
    "         'pentadecathlon': [[1, 1, 1, 1, 1, 1, 1, 1],\n",
    "                            [1, 0, 1, 1, 1, 1, 0, 1],\n",
    "                            [1, 1, 1, 1, 1, 1, 1, 1]],\n",
    "         'beacon': [[1, 1, 0, 0],\n",
    "                    [1, 1, 0, 0],\n",
    "                    [0, 0, 1, 1],\n",
    "                    [0, 0, 1, 1]],\n",
    "         'acorn': [[0, 1, 0, 0, 0, 0, 0],\n",
    "                   [0, 0, 0, 1, 0, 0, 0],\n",
    "                   [1, 1, 0, 0, 1, 1, 1]],\n",
    "         'spaceship': [[0, 0, 1, 1, 0],\n",
    "                       [1, 1, 0, 1, 1],\n",
    "                       [1, 1, 1, 1, 0],\n",
    "                       [0, 1, 1, 0, 0]],\n",
    "         'block_switch_engine': [[0, 0, 0, 0, 0, 0, 1, 0],\n",
    "                                 [0, 0, 0, 0, 1, 0, 1, 1],\n",
    "                                 [0, 0, 0, 0, 1, 0, 1, 0],\n",
    "                                 [0, 0, 0, 0, 1, 0, 0, 0],\n",
    "                                 [0, 0, 1, 0, 0, 0, 0, 0],\n",
    "                                 [1, 0, 1, 0, 0, 0, 0, 0]],\n",
    "         'infinite': [[1, 1, 1, 0, 1],\n",
    "                      [1, 0, 0, 0, 0],\n",
    "                      [0, 0, 0, 1, 1],\n",
    "                      [0, 1, 1, 0, 1],\n",
    "                      [1, 0, 1, 0, 1]]}"
   ]
  },
  {
   "cell_type": "code",
   "execution_count": 28,
   "metadata": {},
   "outputs": [
    {
     "data": {
      "text/plain": [
       "\"\\nanimate_life(universe_size=(100, 100), seed='infinite', seed_position=(40,40),\\n             n_generations=500, interval=50, save=True)\\n\""
      ]
     },
     "execution_count": 28,
     "metadata": {},
     "output_type": "execute_result"
    }
   ],
   "source": [
    "def animate_life(universe_size, seed, seed_position, n_generations=30, interval=300, save=False):\n",
    "    # Initialise the universe and seed\n",
    "    universe = np.zeros(universe_size)\n",
    "    x_start, y_start = seed_position[0], seed_position[1]\n",
    "    seed_array = np.array(seeds[seed])\n",
    "    universe[x_start:x_start+seed_array.shape[0],\n",
    "             y_start:y_start+seed_array.shape[1]] = seed_array\n",
    "    \n",
    "    # Animate\n",
    "    fig = plt.figure()\n",
    "    plt.axis('off')\n",
    "    ims = []\n",
    "    \n",
    "    for i in range(n_generations):\n",
    "        ims.append((plt.imshow(universe, cmap='Blues'),))\n",
    "        universe = generation(universe)\n",
    "        \n",
    "    im_ani = animation.ArtistAnimation(fig, ims, interval=interval, repeat_delay=3000,\n",
    "                                       blit=True)\n",
    "    \n",
    "    # Optional: save the animation, with a name based on the seed.\n",
    "    if save:\n",
    "        im_ani.save((str(seed) + '.mp4'), writer=animation.FFMpegWriter(), dpi=300)\n",
    "        \n",
    "\n",
    "# Example usage\n",
    "\"\"\"\n",
    "animate_life(universe_size=(100, 100), seed='infinite', seed_position=(40,40),\n",
    "             n_generations=500, interval=50, save=True)\n",
    "\"\"\""
   ]
  },
  {
   "cell_type": "code",
   "execution_count": 29,
   "metadata": {},
   "outputs": [
    {
     "data": {
      "image/png": "[encoded data removed]",
      "text/plain": [
       "<matplotlib.figure.Figure at 0x10db50160>"
      ]
     },
     "metadata": {},
     "output_type": "display_data"
    }
   ],
   "source": [
    "animate_life(universe_size=(100, 100), seed='infinite', seed_position=(40,40),\n",
    "             n_generations=500, interval=5, save=True)"
   ]
  },
  {
   "cell_type": "code",
   "execution_count": 174,
   "metadata": {},
   "outputs": [],
   "source": [
    "class Cell:\n",
    "    def __init__(self, x, y, state):\n",
    "        self.x = x\n",
    "        self.y = y\n",
    "        self.state = state\n",
    "        self.new_state = state\n",
    "\n",
    "    def survival(self, universe, cols, rows):\n",
    "        self.num_neighbours = 0\n",
    "        for i in (range(self.x-1,self.x+2)):\n",
    "            for j in (range(self.y-1,self.y+2)):\n",
    "                col = (self.x + i + cols) % cols\n",
    "                row = (self.y + j + rows) % rows\n",
    "                self.num_neighbours += universe[col, row]\n",
    "        self.num_neighbours -= universe[self.x, self.y]\n",
    "        print(self.num_neighbours)\n",
    "                \n",
    "        # The rules of Life\n",
    "        if universe[self.x, self.y] and not UNDERPOPULATION <= self.num_neighbours <= 3:\n",
    "            self.new_state = 0\n",
    "        elif self.num_neighbours == REPRODUCTION:\n",
    "            self.new_state = 1\n",
    "            \n",
    "    def update_state(self):\n",
    "        self.state = self.new_state"
   ]
  },
  {
   "cell_type": "code",
   "execution_count": 50,
   "metadata": {},
   "outputs": [],
   "source": [
    "def generation(universe):\n",
    "    new_universe = np.copy(universe)\n",
    "    \n",
    "    # Apply the survival method to every Cell in the universe\n",
    "    for i in range(universe.shape[0]):\n",
    "        for j in range(universe.shape[1]):\n",
    "            j.survival(universe)\n",
    "    \n",
    "     for i in range(universe.shape[0]):\n",
    "        for j in range(universe.shape[1]):\n",
    "            j.survival(universe)   "
   ]
  },
  {
   "cell_type": "code",
   "execution_count": 143,
   "metadata": {},
   "outputs": [
    {
     "data": {
      "text/plain": [
       "(5, 0)"
      ]
     },
     "execution_count": 143,
     "metadata": {},
     "output_type": "execute_result"
    }
   ],
   "source": [
    "cell1.x, cell1.y"
   ]
  },
  {
   "cell_type": "code",
   "execution_count": 55,
   "metadata": {},
   "outputs": [
    {
     "data": {
      "text/plain": [
       "(6, 23)"
      ]
     },
     "execution_count": 55,
     "metadata": {},
     "output_type": "execute_result"
    }
   ],
   "source": [
    "cell1.sum_test(2, 3)"
   ]
  },
  {
   "cell_type": "code",
   "execution_count": 169,
   "metadata": {},
   "outputs": [],
   "source": [
    "cell1 = Cell(5, 0, 1)"
   ]
  },
  {
   "cell_type": "code",
   "execution_count": 170,
   "metadata": {},
   "outputs": [
    {
     "data": {
      "text/plain": [
       "1"
      ]
     },
     "execution_count": 170,
     "metadata": {},
     "output_type": "execute_result"
    }
   ],
   "source": [
    "cell1.state"
   ]
  },
  {
   "cell_type": "code",
   "execution_count": 171,
   "metadata": {},
   "outputs": [
    {
     "data": {
      "text/plain": [
       "1"
      ]
     },
     "execution_count": 171,
     "metadata": {},
     "output_type": "execute_result"
    }
   ],
   "source": [
    "cell1.state"
   ]
  },
  {
   "cell_type": "code",
   "execution_count": 173,
   "metadata": {},
   "outputs": [
    {
     "name": "stdout",
     "output_type": "stream",
     "text": [
      "-1.0\n"
     ]
    }
   ],
   "source": [
    "cell1.survival(universe, 1, 2)"
   ]
  },
  {
   "cell_type": "code",
   "execution_count": 167,
   "metadata": {},
   "outputs": [
    {
     "data": {
      "text/plain": [
       "0"
      ]
     },
     "execution_count": 167,
     "metadata": {},
     "output_type": "execute_result"
    }
   ],
   "source": [
    "cell1.new_state\n"
   ]
  },
  {
   "cell_type": "code",
   "execution_count": 90,
   "metadata": {},
   "outputs": [
    {
     "ename": "AttributeError",
     "evalue": "'Cell' object has no attribute 'num_neighbours'",
     "output_type": "error",
     "traceback": [
      "\u001b[0;31m---------------------------------------------------------------------------\u001b[0m",
      "\u001b[0;31mAttributeError\u001b[0m                            Traceback (most recent call last)",
      "\u001b[0;32m<ipython-input-90-dc32744f74d8>\u001b[0m in \u001b[0;36m<module>\u001b[0;34m()\u001b[0m\n\u001b[0;32m----> 1\u001b[0;31m \u001b[0mcell1\u001b[0m\u001b[0;34m.\u001b[0m\u001b[0mnum_neighbours\u001b[0m\u001b[0;34m\u001b[0m\u001b[0m\n\u001b[0m",
      "\u001b[0;31mAttributeError\u001b[0m: 'Cell' object has no attribute 'num_neighbours'"
     ]
    }
   ],
   "source": [
    "cell1.num_neighbours"
   ]
  },
  {
   "cell_type": "code",
   "execution_count": 139,
   "metadata": {},
   "outputs": [
    {
     "data": {
      "text/plain": [
       "True"
      ]
     },
     "execution_count": 139,
     "metadata": {},
     "output_type": "execute_result"
    }
   ],
   "source": [
    "universe[cell1.x, cell1.y] and not UNDERPOPULATION <= cell1.num_neighbours <= 3"
   ]
  },
  {
   "cell_type": "code",
   "execution_count": 138,
   "metadata": {},
   "outputs": [
    {
     "data": {
      "text/plain": [
       "1.0"
      ]
     },
     "execution_count": 138,
     "metadata": {},
     "output_type": "execute_result"
    }
   ],
   "source": [
    "universe[cell1.x, cell1.y]"
   ]
  },
  {
   "cell_type": "code",
   "execution_count": 161,
   "metadata": {},
   "outputs": [
    {
     "data": {
      "text/plain": [
       "array([[ 0.,  0.,  0.,  0.,  0.,  0.],\n",
       "       [ 0.,  1.,  1.,  1.,  1.,  0.],\n",
       "       [ 0.,  1.,  0.,  0.,  1.,  0.],\n",
       "       [ 0.,  0.,  0.,  0.,  0.,  0.],\n",
       "       [ 0.,  0.,  0.,  0.,  0.,  0.],\n",
       "       [ 1.,  0.,  0.,  0.,  0.,  0.]])"
      ]
     },
     "execution_count": 161,
     "metadata": {},
     "output_type": "execute_result"
    }
   ],
   "source": [
    "universe"
   ]
  },
  {
   "cell_type": "code",
   "execution_count": null,
   "metadata": {},
   "outputs": [],
   "source": []
  }
 ],
 "metadata": {
  "kernelspec": {
   "display_name": "Python 3",
   "language": "python",
   "name": "python3"
  },
  "language_info": {
   "codemirror_mode": {
    "name": "ipython",
    "version": 3
   },
   "file_extension": ".py",
   "mimetype": "text/x-python",
   "name": "python",
   "nbconvert_exporter": "python",
   "pygments_lexer": "ipython3",
   "version": "3.6.1"
  }
 },
 "nbformat": 4,
 "nbformat_minor": 2
}
